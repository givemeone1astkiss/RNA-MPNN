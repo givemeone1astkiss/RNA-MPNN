{
 "cells": [
  {
   "metadata": {},
   "cell_type": "code",
   "outputs": [],
   "execution_count": null,
   "source": [
    "from rnampnn.model.rdesign import RNAModel\n",
    "from rnampnn.utils.data import RNADataModule\n",
    "from rnampnn.utils.train import get_trainer\n",
    "\n",
    "model = RNAModel()\n",
    "data = RNADataModule.from_defaults(batch_size=8)\n",
    "trainer = get_trainer(name='RDesign', version=1, max_epochs=60)\n",
    "trainer.fit(model, data)"
   ],
   "id": "ca2e7045ae49ae7"
  }
 ],
 "metadata": {
  "kernelspec": {
   "display_name": "base",
   "language": "python",
   "name": "python3"
  },
  "language_info": {
   "codemirror_mode": {
    "name": "ipython",
    "version": 3
   },
   "file_extension": ".py",
   "mimetype": "text/x-python",
   "name": "python",
   "nbconvert_exporter": "python",
   "pygments_lexer": "ipython3",
   "version": "3.12.9"
  }
 },
 "nbformat": 4,
 "nbformat_minor": 5
}
