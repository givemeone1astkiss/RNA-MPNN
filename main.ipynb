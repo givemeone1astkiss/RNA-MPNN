{
 "cells": [
  {
   "metadata": {},
   "cell_type": "code",
   "source": [
    "import torch\n",
    "\n",
    "from rnampnn.utils.data import analyse_dataset\n",
    "\n",
    "analyse_dataset()"
   ],
   "id": "8d903cd6bc25bd4d",
   "outputs": [],
   "execution_count": null
  },
  {
   "metadata": {},
   "cell_type": "code",
   "source": [
    "from rnampnn.utils.data import RNADataModule\n",
    "\n",
    "data = RNADataModule()\n",
    "data.setup(stage=\"fit\")"
   ],
   "id": "a0955bf6c045221",
   "outputs": [],
   "execution_count": null
  },
  {
   "metadata": {},
   "cell_type": "code",
   "source": [
    "train = data.train_dataloader()\n",
    "for i in train:\n",
    "    print(i)\n",
    "    break"
   ],
   "id": "61189422d74fe34b",
   "outputs": [],
   "execution_count": null
  },
  {
   "metadata": {},
   "cell_type": "code",
   "source": [
    "from rnampnn.utils.data import RNADataset\n",
    "\n",
    "dataset = RNADataset.from_path(\"data/\")\n"
   ],
   "id": "e120e1c99852299d",
   "outputs": [],
   "execution_count": null
  },
  {
   "metadata": {},
   "cell_type": "code",
   "source": [
    "print(len(dataset))\n",
    "dataset.slice_augmentation(num_gen=100)\n",
    "print(len(dataset))"
   ],
   "id": "8cba4a57e132ebae",
   "outputs": [],
   "execution_count": null
  },
  {
   "metadata": {},
   "cell_type": "code",
   "outputs": [],
   "execution_count": null,
   "source": [
    "import torch\n",
    "def dist(X, mask, eps=1E-6):\n",
    "    mask_2D = torch.unsqueeze(mask, 1) * torch.unsqueeze(mask, 2)\n",
    "    dX = torch.unsqueeze(X, 1) - torch.unsqueeze(X, 2)\n",
    "    dX = torch.sum(dX ** 2, 3)\n",
    "    D = (1. - mask_2D) * 10000 + mask_2D * torch.sqrt(dX + eps)\n",
    "    print(\"D:\", D)\n",
    "\n",
    "    D_max, _ = torch.max(D, -1, keepdim=True)\n",
    "    print(\"D_max:\", D_max.shape)\n",
    "    D_adjust = D + (1. - mask_2D) * (D_max + 1)\n",
    "    print(\"D_adjust:\",D_adjust, D_adjust.shape)\n",
    "    D_neighbors, E_idx = torch.topk(D_adjust, min(5, D_adjust.shape[-1]), dim=-1, largest=False)\n",
    "    print(\"D_neighbors:\", D_neighbors.shape)\n",
    "    print(\"E_idx:\", E_idx.shape)\n",
    "    return D_neighbors, E_idx\n",
    "\n",
    "X = torch.cat((torch.rand(1, 10, 6, 3),torch.zeros(1,5,6,3)), dim=1)\n",
    "X = X[:, :, 0, :]\n",
    "print(X.shape)\n",
    "mask = torch.cat((torch.ones(1,10), torch.zeros(1,5)), dim=1)\n",
    "Y = dist(X, mask)\n",
    "print(Y[0], Y[1])"
   ],
   "id": "90e0e2f13a4988d"
  },
  {
   "metadata": {
    "ExecuteTime": {
     "end_time": "2025-04-30T20:08:09.484315Z",
     "start_time": "2025-04-30T20:08:05.277663Z"
    }
   },
   "cell_type": "code",
   "source": [
    "from rnampnn.model.rnampnn import AtomFeature, AtomMPNN, AtomPooling\n",
    "import torch\n",
    "\n",
    "atom_feature = AtomFeature(num_neighbour=30)\n",
    "X = torch.cat(( torch.rand(1, 32, 7, 3), torch.zeros(1, 4, 7, 3)), dim=1)\n",
    "mask = torch.cat((torch.ones(1, 32), torch.zeros(1, 4)), dim=1)\n",
    "print(mask)\n",
    "atom_coords, atom_mask, encode, dist_neighbors, edge_index = atom_feature(X, mask)\n",
    "atom_mpnn = AtomMPNN(hidden_dim=32, num_layers=2)\n",
    "updated_encode, _, _, _ = atom_mpnn(encode, atom_mask, dist_neighbors, edge_index)\n",
    "\n",
    "raw_feature = torch.cat(( torch.rand(1, 32, 8), torch.zeros(1, 4, 8)), dim=1)\n",
    "atom_pooling = AtomPooling(raw_feature_dim=8, hidden_dim=32, num_layers=2)\n",
    "pooling = atom_pooling(updated_encode, atom_mask, raw_feature)"
   ],
   "id": "f144421c19ebd523",
   "outputs": [
    {
     "name": "stdout",
     "output_type": "stream",
     "text": [
      "tensor([[1., 1., 1., 1., 1., 1., 1., 1., 1., 1., 1., 1., 1., 1., 1., 1., 1., 1.,\n",
      "         1., 1., 1., 1., 1., 1., 1., 1., 1., 1., 1., 1., 1., 1., 0., 0., 0., 0.]])\n",
      "torch.Size([1, 36])\n",
      "tensor([[1., 1., 1., 1., 1., 1., 1., 1., 1., 1., 1., 1., 1., 1., 1., 1., 1., 1.,\n",
      "         1., 1., 1., 1., 1., 1., 1., 1., 1., 1., 1., 1., 1., 1., 1., 1., 1., 1.,\n",
      "         1., 1., 1., 1., 1., 1., 1., 1., 1., 1., 1., 1., 1., 1., 1., 1., 1., 1.,\n",
      "         1., 1., 1., 1., 1., 1., 1., 1., 1., 1., 1., 1., 1., 1., 1., 1., 1., 1.,\n",
      "         1., 1., 1., 1., 1., 1., 1., 1., 1., 1., 1., 1., 1., 1., 1., 1., 1., 1.,\n",
      "         1., 1., 1., 1., 1., 1., 1., 1., 1., 1., 1., 1., 1., 1., 1., 1., 1., 1.,\n",
      "         1., 1., 1., 1., 1., 1., 1., 1., 1., 1., 1., 1., 1., 1., 1., 1., 1., 1.,\n",
      "         1., 1., 1., 1., 1., 1., 1., 1., 1., 1., 1., 1., 1., 1., 1., 1., 1., 1.,\n",
      "         1., 1., 1., 1., 1., 1., 1., 1., 1., 1., 1., 1., 1., 1., 1., 1., 1., 1.,\n",
      "         1., 1., 1., 1., 1., 1., 1., 1., 1., 1., 1., 1., 1., 1., 1., 1., 1., 1.,\n",
      "         1., 1., 1., 1., 1., 1., 1., 1., 1., 1., 1., 1., 1., 1., 1., 1., 1., 1.,\n",
      "         1., 1., 1., 1., 1., 1., 1., 1., 1., 1., 1., 1., 1., 1., 1., 1., 1., 1.,\n",
      "         1., 1., 1., 1., 1., 1., 1., 1., 0., 0., 0., 0., 0., 0., 0., 0., 0., 0.,\n",
      "         0., 0., 0., 0., 0., 0., 0., 0., 0., 0., 0., 0., 0., 0., 0., 0., 0., 0.]])\n",
      "tensor([[[ 0.0005,  0.0010, -0.0004,  ...,  0.0002, -0.0004, -0.0003],\n",
      "         [ 0.0016, -0.0010, -0.0004,  ..., -0.0009,  0.0013, -0.0008],\n",
      "         [ 0.0006, -0.0003,  0.0005,  ...,  0.0008, -0.0001, -0.0002],\n",
      "         ...,\n",
      "         [ 0.0000,  0.0000,  0.0000,  ...,  0.0000,  0.0000,  0.0000],\n",
      "         [ 0.0000,  0.0000,  0.0000,  ...,  0.0000,  0.0000,  0.0000],\n",
      "         [ 0.0000,  0.0000,  0.0000,  ...,  0.0000,  0.0000,  0.0000]]],\n",
      "       grad_fn=<DivBackward0>)\n",
      "tensor([[[ 0.0874,  0.0088,  0.0739,  ...,  0.1507, -0.1237, -0.0185],\n",
      "         [ 0.0668,  0.0032,  0.0589,  ...,  0.1295, -0.0855, -0.0487],\n",
      "         [ 0.0778,  0.0340,  0.0692,  ...,  0.1472, -0.1162, -0.0565],\n",
      "         ...,\n",
      "         [ 0.0000,  0.0000,  0.0000,  ...,  0.0000,  0.0000,  0.0000],\n",
      "         [ 0.0000,  0.0000,  0.0000,  ...,  0.0000,  0.0000,  0.0000],\n",
      "         [ 0.0000,  0.0000,  0.0000,  ...,  0.0000,  0.0000,  0.0000]]],\n",
      "       grad_fn=<SumBackward1>)\n"
     ]
    }
   ],
   "execution_count": 1
  }
 ],
 "metadata": {
  "kernelspec": {
   "display_name": "Python 3",
   "language": "python",
   "name": "python3"
  },
  "language_info": {
   "codemirror_mode": {
    "name": "ipython",
    "version": 2
   },
   "file_extension": ".py",
   "mimetype": "text/x-python",
   "name": "python",
   "nbconvert_exporter": "python",
   "pygments_lexer": "ipython2",
   "version": "2.7.6"
  }
 },
 "nbformat": 4,
 "nbformat_minor": 5
}
