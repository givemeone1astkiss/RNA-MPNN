{
 "cells": [
  {
   "metadata": {},
   "cell_type": "code",
   "source": [
    "import torch\n",
    "\n",
    "from rnampnn.utils.data import analyse_dataset\n",
    "\n",
    "analyse_dataset()"
   ],
   "id": "8d903cd6bc25bd4d",
   "outputs": [],
   "execution_count": null
  },
  {
   "metadata": {},
   "cell_type": "code",
   "source": [
    "from rnampnn.utils.data import RNADataModule\n",
    "\n",
    "data = RNADataModule()\n",
    "data.setup(stage=\"fit\")"
   ],
   "id": "a0955bf6c045221",
   "outputs": [],
   "execution_count": null
  },
  {
   "metadata": {},
   "cell_type": "code",
   "source": [
    "train = data.train_dataloader()\n",
    "for i in train:\n",
    "    print(i)\n",
    "    break"
   ],
   "id": "61189422d74fe34b",
   "outputs": [],
   "execution_count": null
  },
  {
   "metadata": {},
   "cell_type": "code",
   "source": [
    "from rnampnn.utils.data import RNADataset\n",
    "\n",
    "dataset = RNADataset.from_path(\"data/\")\n"
   ],
   "id": "e120e1c99852299d",
   "outputs": [],
   "execution_count": null
  },
  {
   "metadata": {},
   "cell_type": "code",
   "source": [
    "print(len(dataset))\n",
    "dataset.slice_augmentation(num_gen=100)\n",
    "print(len(dataset))"
   ],
   "id": "8cba4a57e132ebae",
   "outputs": [],
   "execution_count": null
  },
  {
   "metadata": {},
   "cell_type": "code",
   "outputs": [],
   "execution_count": null,
   "source": [
    "import torch\n",
    "def dist(X, mask, eps=1E-6):\n",
    "    mask_2D = torch.unsqueeze(mask, 1) * torch.unsqueeze(mask, 2)\n",
    "    dX = torch.unsqueeze(X, 1) - torch.unsqueeze(X, 2)\n",
    "    dX = torch.sum(dX ** 2, 3)\n",
    "    D = (1. - mask_2D) * 10000 + mask_2D * torch.sqrt(dX + eps)\n",
    "    print(\"D:\", D)\n",
    "\n",
    "    D_max, _ = torch.max(D, -1, keepdim=True)\n",
    "    print(\"D_max:\", D_max.shape)\n",
    "    D_adjust = D + (1. - mask_2D) * (D_max + 1)\n",
    "    print(\"D_adjust:\",D_adjust, D_adjust.shape)\n",
    "    D_neighbors, E_idx = torch.topk(D_adjust, min(5, D_adjust.shape[-1]), dim=-1, largest=False)\n",
    "    print(\"D_neighbors:\", D_neighbors.shape)\n",
    "    print(\"E_idx:\", E_idx.shape)\n",
    "    return D_neighbors, E_idx\n",
    "\n",
    "X = torch.cat((torch.rand(1, 10, 6, 3),torch.zeros(1,5,6,3)), dim=1)\n",
    "X = X[:, :, 0, :]\n",
    "print(X.shape)\n",
    "mask = torch.cat((torch.ones(1,10), torch.zeros(1,5)), dim=1)\n",
    "Y = dist(X, mask)\n",
    "print(Y[0], Y[1])"
   ],
   "id": "90e0e2f13a4988d"
  },
  {
   "metadata": {
    "ExecuteTime": {
     "end_time": "2025-05-01T06:59:58.895938Z",
     "start_time": "2025-05-01T06:59:58.881138Z"
    }
   },
   "cell_type": "code",
   "source": [
    "from rnampnn.model.rnampnn import AtomFeature, AtomMPNN, AtomPooling\n",
    "import torch\n",
    "\n",
    "atom_feature = AtomFeature(num_atom_neighbour=30)\n",
    "X = torch.cat(( torch.rand(1, 32, 7, 3), torch.zeros(1, 4, 7, 3)), dim=1)\n",
    "mask = torch.cat((torch.ones(1, 32), torch.zeros(1, 4)), dim=1)\n",
    "atom_coords, atom_mask, encode, dist_neighbors, edge_index = atom_feature(X, mask)\n",
    "atom_mpnn = AtomMPNN(atom_hidden_dim=32, num_layers=2)\n",
    "updated_encode, _, _, _ = atom_mpnn(encode, atom_mask, dist_neighbors, edge_index)\n",
    "\n",
    "raw_feature = torch.cat(( torch.rand(1, 32, 8), torch.zeros(1, 4, 8)), dim=1)\n",
    "atom_pooling = AtomPooling(raw_feature_dim=8, atom_hidden_dim=32, num_layers=2)\n",
    "pooling = atom_pooling(updated_encode, atom_mask, raw_feature)\n",
    "print(pooling)"
   ],
   "id": "f144421c19ebd523",
   "outputs": [
    {
     "name": "stdout",
     "output_type": "stream",
     "text": [
      "tensor([[[-0.0383, -0.0812,  0.0097,  ...,  0.1096, -0.0273,  0.0492],\n",
      "         [-0.0463, -0.0595, -0.0170,  ...,  0.0239, -0.0100, -0.0092],\n",
      "         [-0.0438, -0.0757, -0.0109,  ...,  0.1274, -0.0072,  0.0564],\n",
      "         ...,\n",
      "         [ 0.0000,  0.0000,  0.0000,  ...,  0.0000,  0.0000,  0.0000],\n",
      "         [ 0.0000,  0.0000,  0.0000,  ...,  0.0000,  0.0000,  0.0000],\n",
      "         [ 0.0000,  0.0000,  0.0000,  ...,  0.0000,  0.0000,  0.0000]]],\n",
      "       grad_fn=<SumBackward1>)\n"
     ]
    }
   ],
   "execution_count": 2
  },
  {
   "metadata": {
    "ExecuteTime": {
     "end_time": "2025-05-01T09:08:46.857765Z",
     "start_time": "2025-05-01T09:08:46.849605Z"
    }
   },
   "cell_type": "code",
   "source": [
    "from rnampnn.model.rnampnn import ResFeature\n",
    "import torch\n",
    "\n",
    "X = torch.cat(( torch.rand(1, 32, 7, 3), torch.zeros(1, 4, 7, 3)), dim=1)\n",
    "mask = torch.cat((torch.ones(1, 32), torch.zeros(1, 4)), dim=1)\n",
    "\n",
    "res_feature = ResFeature(num_neighbour=40)\n",
    "\n",
    "dist_neighbour, edge_index = res_feature._get_res_graph(X, mask)\n",
    "print('dist_neighbour: ', dist_neighbour)\n",
    "print('edge_index: ', edge_index)\n",
    "\n",
    "cos = res_feature._inside_angles(X, mask)\n",
    "print('cos: ', cos)\n",
    "\n",
    "dist = res_feature._inside_dist(X, mask)\n",
    "print('dist: ', dist)"
   ],
   "id": "9b975cf74951e314",
   "outputs": [
    {
     "name": "stdout",
     "output_type": "stream",
     "text": [
      "dist_neighbour:  tensor([[[1.0000e-03, 1.0366e-01, 1.1080e-01,  ..., 1.0000e+06,\n",
      "          1.0000e+06, 1.0000e+06],\n",
      "         [1.0000e-03, 8.0849e-02, 8.7057e-02,  ..., 1.0000e+06,\n",
      "          1.0000e+06, 1.0000e+06],\n",
      "         [1.0000e-03, 4.7565e-02, 9.6630e-02,  ..., 1.0000e+06,\n",
      "          1.0000e+06, 1.0000e+06],\n",
      "         ...,\n",
      "         [1.0000e+06, 1.0000e+06, 1.0000e+06,  ..., 1.0000e+06,\n",
      "          1.0000e+06, 1.0000e+06],\n",
      "         [1.0000e+06, 1.0000e+06, 1.0000e+06,  ..., 1.0000e+06,\n",
      "          1.0000e+06, 1.0000e+06],\n",
      "         [1.0000e+06, 1.0000e+06, 1.0000e+06,  ..., 1.0000e+06,\n",
      "          1.0000e+06, 1.0000e+06]]])\n",
      "edge_index:  tensor([[[ 0,  8, 27,  ..., -1, -1, -1],\n",
      "         [ 1, 26, 10,  ..., -1, -1, -1],\n",
      "         [ 2, 10,  3,  ..., -1, -1, -1],\n",
      "         ...,\n",
      "         [-1, -1, -1,  ..., -1, -1, -1],\n",
      "         [-1, -1, -1,  ..., -1, -1, -1],\n",
      "         [-1, -1, -1,  ..., -1, -1, -1]]])\n",
      "cos:  tensor([[[-0.5537,  0.1459, -0.8908, -0.0627],\n",
      "         [-0.7664, -0.5576, -0.8504, -0.7487],\n",
      "         [-0.7991, -0.8977, -0.3730, -0.9277],\n",
      "         [ 0.1610,  0.5992, -0.4247, -0.8555],\n",
      "         [-0.9992, -0.8676, -0.0493,  0.2482],\n",
      "         [-0.3535,  0.0038, -0.1521, -0.8520],\n",
      "         [-0.2766, -0.0314, -0.5122,  0.4737],\n",
      "         [-0.6525, -0.7719,  0.2231, -0.8320],\n",
      "         [-0.8148, -0.8262,  0.5840, -0.4958],\n",
      "         [-0.7642,  0.6833, -0.6321, -0.9817],\n",
      "         [-0.9315, -0.6098, -0.9543,  0.0345],\n",
      "         [-0.8479, -0.1947, -0.8354,  0.2961],\n",
      "         [-0.6755,  0.5269,  0.3703, -0.6880],\n",
      "         [ 0.9257, -0.6906,  0.8330, -0.8507],\n",
      "         [-0.4258, -0.5963, -0.6369, -0.8061],\n",
      "         [-0.6383,  0.8205, -0.8693, -0.7245],\n",
      "         [-0.5397, -0.7659, -0.8833,  0.2426],\n",
      "         [-0.0914, -0.6966, -0.9066,  0.2580],\n",
      "         [-0.2689, -0.6208, -0.8993, -0.7239],\n",
      "         [-0.8982, -0.8125,  0.1489, -0.6230],\n",
      "         [-0.6321, -0.7975, -0.9687, -0.4123],\n",
      "         [-0.7452,  0.0767,  0.5729, -0.6842],\n",
      "         [-0.6110,  0.1977, -0.7563, -0.8656],\n",
      "         [-0.3117, -0.0738, -0.8760, -0.0679],\n",
      "         [-0.7435, -0.3095, -0.3051, -0.6410],\n",
      "         [-0.4466,  0.7572,  0.6298,  0.3779],\n",
      "         [-0.7243, -0.1284, -0.4540, -0.2482],\n",
      "         [-0.7080, -0.0669, -0.8672, -0.9176],\n",
      "         [-0.8890, -0.5654, -0.0098, -0.8172],\n",
      "         [ 0.7196, -0.5315,  0.1776, -0.7180],\n",
      "         [-0.5996, -0.8764, -0.6708, -0.5075],\n",
      "         [-0.9122,  0.0016, -0.8501, -0.9615],\n",
      "         [ 0.0000,  0.0000,  0.0000,  0.0000],\n",
      "         [ 0.0000,  0.0000,  0.0000,  0.0000],\n",
      "         [ 0.0000,  0.0000,  0.0000,  0.0000],\n",
      "         [ 0.0000,  0.0000,  0.0000,  0.0000]]])\n",
      "dist:  torch.Size([1, 36, 21])\n"
     ]
    }
   ],
   "execution_count": 2
  }
 ],
 "metadata": {
  "kernelspec": {
   "display_name": "Python 3",
   "language": "python",
   "name": "python3"
  },
  "language_info": {
   "codemirror_mode": {
    "name": "ipython",
    "version": 2
   },
   "file_extension": ".py",
   "mimetype": "text/x-python",
   "name": "python",
   "nbconvert_exporter": "python",
   "pygments_lexer": "ipython2",
   "version": "2.7.6"
  }
 },
 "nbformat": 4,
 "nbformat_minor": 5
}
